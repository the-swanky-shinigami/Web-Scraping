{
  "cells": [
    {
      "cell_type": "markdown",
      "metadata": {
        "id": "egGSh0XHADsL"
      },
      "source": [
        "### **For All Sheets**\n",
        "\n",
        "Scrape all the historical data from the beginning of the database and save it to an excel file\n"
      ]
    },
    {
      "cell_type": "code",
      "execution_count": null,
      "metadata": {
        "id": "sQJ8ob1rAFPx"
      },
      "outputs": [],
      "source": [
        "import requests\n",
        "from bs4 import BeautifulSoup\n",
        "import pandas as pd\n",
        "from datetime import datetime\n",
        "from dateutil.relativedelta import relativedelta"
      ]
    },
    {
      "cell_type": "code",
      "execution_count": null,
      "metadata": {
        "id": "LJGRjlogAF1d"
      },
      "outputs": [],
      "source": [
        "# Initialize an empty DataFrame to store all data\n",
        "all_data = pd.DataFrame()"
      ]
    },
    {
      "cell_type": "code",
      "execution_count": null,
      "metadata": {
        "id": "mex2iB4YAHTi"
      },
      "outputs": [],
      "source": [
        "# Start and end dates\n",
        "start_date = datetime(2007, 4, 1)  # April 2007\n",
        "end_date = datetime(2024, 9, 1)    # September 2024"
      ]
    },
    {
      "cell_type": "code",
      "execution_count": null,
      "metadata": {
        "id": "gy5XR9N3AJCd"
      },
      "outputs": [],
      "source": [
        "# Loop through each month from start_date to end_date\n",
        "current_date = start_date\n",
        "while current_date <= end_date:\n",
        "    # Construct the URL with current month and year\n",
        "    url = f\"https://www.moneycontrol.com/techmvc/responsive/fiidii/monthly?month={current_date.month:02d}&year={current_date.year}&section=cash&sub_section=\"\n",
        "\n",
        "    headers = {\n",
        "        'User-Agent': 'Mozilla/5.0 (Windows NT 10.0; Win64; x64) AppleWebKit/537.36 (KHTML, like Gecko) Chrome/129.0.0.0 Safari/537.36',\n",
        "        'Accept': 'application/json, text/javascript, */*; q=0.01',\n",
        "        'X-Requested-With': 'XMLHttpRequest',\n",
        "        'Referer': 'https://www.moneycontrol.com/stocks/marketstats/fii_dii_activity/index.php',\n",
        "        'Cookie': 'MC_PPID_LOGIC=normaluser25774575217216576mcids; A18ID=1728301992367.217557; PHPSESSID=ov1nup9q53j0b2dj9qso522f00; _abck=9C98D5C46BC235421C8D0E773A875C67~0~YAAQbAkgF8MZvDWSAQAAypuvZwxOGhgKm4A8Lk8mlKHujrduC/ZJzlHgg6mCCOPG1UGy+QWOS44nzrfW/PFznPljN2ssjS/b640SZnGPgPsWD2J2ovfNsHG0wJqyRLyH5bh2EsDE+V9eQHsA1a6nsekMhLpWE60j8ZHkzrjzoAIydXJ2BwV7591/VGgj+MkJVnKbRuuTX8YX5JViUFqGa0+XTuXcj8EBR3RFODdi58T8oQk4lAuEMJ/ma1Ag+VDna32UQfwC79aIPESSrB7RyAGT/XqtZOXg7j4Fu6yxCN1OXM50cGonsWqONLL8K6qbeMJ2de9fzksXPeatgr0B/Wls6D8luwq7/vy0tYX0xWX+XE/SOC/RTbAN2pTWs38rJd4zipdFPKlpLTAyZ+rJwQryWmrgFDUQ6zyDLVRu~-1~-1~1724944322; bm_sz=6B47ADAFC94C621C19902F2B25B2C1CD~YAAQbAkgF8UZvDWSAQAAypuvZxkqLRART8HR1CJSkuLZoz1nNUAiajFLDQoJT0PBSk4BcpsnCwrzUUY5UY8EJM0NdYlpulMMrxTvTJW5qfwNY8RV/Pzfs2dcawBFnaO3/hToD2ixkyPufR4wK3xqLg+WUOB6uUg3in0KUqWwTHH7O2qNcP+KddFcp07IlT1uiDWe4vcA7ArzBfiBoIpnWcl60eICA1BLP3iz7ZtrUarKqQvy/BkK8iuQQOHpgsU36Y5XZ7tdXUf7tWokm9Gvr5KGdqcwHbnd8RzmoOHHVeuPD3ghsfrXc/mFsoMU2W6B62f2vZ8sVASJ40uhUVdiP4DiNEfIfTx30VRRQ36r2NpfEYjDs6FH5sXolgvfKg==~3618353~4539956; dtCookie=v_4_srv_5_sn_B1F5F37A0778CABDD1921BCD3B56C50B_perc_100000_ol_0_mul_1_app-3A15ca68b27f59163f_1; ak_bmsc=9FBC6D95C5DBC50F3A8D017A4F4BB73F~000000000000000000000000000000~YAAQ0XbNFxiLf2eSAQAANhS0ZxmiMZqb9mViXKvdcYGFEMPnxIJfm16PpJzE5yVEspsr2CSTswze+bB2IGGKhW61WKPWYNkvxaKw3NPzPXPfWGjfF/hYSPfCS0zTHQL5E5JvUsuu2KxgMZeXC9Rw/TjL86ZQ7IJppRsE1D1P+uXsN53R2fmXp0rT8O23C7PSfaGI/Nl1TWemdczb10n4D6DbViI+MSJDAgK1U7r22VTVl9f1ATWXRRtlaa+iT+48n9srC0XFAgLXmGBHMesVEzDg+rthobMtRWZ/XpTXDSDrLuDy5QUzctWkspdaVqWuVkjLbDE6/aprfeeEcuIsjUsoXmt75aVfGXV9Vi+9NCBirdo8pendR2TyGIlZ4/K4hRrt/u7T+zf83b6uLDXdF20=',  # Paste cookies from browser\n",
        "    }\n",
        "\n",
        "    response = requests.get(url, headers=headers)\n",
        "    soup = BeautifulSoup(response.text, 'html.parser')\n",
        "    table = soup.find('table')\n",
        "    rows = table.find_all('tr')\n",
        "\n",
        "    # Extract header\n",
        "    headers = []\n",
        "    for th in rows[1].find_all('th'):\n",
        "        headers.append(th.text.strip())\n",
        "\n",
        "    # Extract data\n",
        "    data = []\n",
        "    for row in rows[2:]:\n",
        "        cols = row.find_all(['td', 'th'])\n",
        "        data.append([col.text.strip() for col in cols])\n",
        "\n",
        "    # Create a DataFrame\n",
        "    df = pd.DataFrame(data, columns=headers)\n",
        "\n",
        "    # Delete the first row of the database\n",
        "    df = df.drop(df.index[0])\n",
        "\n",
        "    # Reverse the order of the dataframe\n",
        "    df = df.iloc[::-1]\n",
        "\n",
        "    # Append the data to the all_data DataFrame\n",
        "    all_data = pd.concat([all_data, df], ignore_index=True)\n",
        "\n",
        "    # Move to the next month\n",
        "    current_date += relativedelta(months=1)"
      ]
    },
    {
      "cell_type": "code",
      "execution_count": null,
      "metadata": {
        "id": "lpah8ITNAMPf"
      },
      "outputs": [],
      "source": [
        "# Export the collected data to an Excel file\n",
        "output_file = \"/content/drive/MyDrive/fii_dii_data.xlsx\" # Change the directory accordingly\n",
        "all_data.to_excel(output_file, index=False)"
      ]
    },
    {
      "cell_type": "code",
      "execution_count": null,
      "metadata": {
        "colab": {
          "base_uri": "https://localhost:8080/"
        },
        "id": "FaKYGnUJAO1k",
        "outputId": "e4184300-209e-435e-fda5-97e55caad05b"
      },
      "outputs": [
        {
          "name": "stdout",
          "output_type": "stream",
          "text": [
            "Data has been successfully scraped and saved to the Excel file.\n"
          ]
        }
      ],
      "source": [
        "print(\"Data has been successfully scraped and saved to the Excel file.\")"
      ]
    }
  ],
  "metadata": {
    "colab": {
      "provenance": []
    },
    "kernelspec": {
      "display_name": "Python 3",
      "name": "python3"
    },
    "language_info": {
      "name": "python"
    }
  },
  "nbformat": 4,
  "nbformat_minor": 0
}
